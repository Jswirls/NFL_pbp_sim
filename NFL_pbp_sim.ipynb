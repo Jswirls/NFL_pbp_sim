{
  "nbformat": 4,
  "nbformat_minor": 0,
  "metadata": {
    "colab": {
      "name": "NFL_pbp_sim",
      "provenance": [],
      "authorship_tag": "ABX9TyMknWfBaC0i1T1pGiOpeBxH",
      "include_colab_link": true
    },
    "kernelspec": {
      "name": "python3",
      "display_name": "Python 3"
    },
    "language_info": {
      "name": "python"
    }
  },
  "cells": [
    {
      "cell_type": "markdown",
      "metadata": {
        "id": "view-in-github",
        "colab_type": "text"
      },
      "source": [
        "<a href=\"https://colab.research.google.com/github/Jswirls/NFL_pbp_sim/blob/main/NFL_pbp_sim.ipynb\" target=\"_parent\"><img src=\"https://colab.research.google.com/assets/colab-badge.svg\" alt=\"Open In Colab\"/></a>"
      ]
    },
    {
      "cell_type": "code",
      "execution_count": 339,
      "metadata": {
        "colab": {
          "base_uri": "https://localhost:8080/"
        },
        "id": "YaX_t-bg1Lnf",
        "outputId": "535675ff-d048-415a-8fed-4d8646f8de56"
      },
      "outputs": [
        {
          "output_type": "stream",
          "name": "stdout",
          "text": [
            "Looking in indexes: https://pypi.org/simple, https://us-python.pkg.dev/colab-wheels/public/simple/\n",
            "Requirement already satisfied: nfl_data_py in /usr/local/lib/python3.7/dist-packages (0.2.7)\n",
            "Requirement already satisfied: pandas>=1.3.5 in /usr/local/lib/python3.7/dist-packages (from nfl_data_py) (1.3.5)\n",
            "Requirement already satisfied: appdirs>=1.4.4 in /usr/local/lib/python3.7/dist-packages (from nfl_data_py) (1.4.4)\n",
            "Requirement already satisfied: fastparquet>=0.8.1 in /usr/local/lib/python3.7/dist-packages (from nfl_data_py) (0.8.1)\n",
            "Requirement already satisfied: numpy>=1.18 in /usr/local/lib/python3.7/dist-packages (from fastparquet>=0.8.1->nfl_data_py) (1.21.6)\n",
            "Requirement already satisfied: fsspec in /usr/local/lib/python3.7/dist-packages (from fastparquet>=0.8.1->nfl_data_py) (2022.5.0)\n",
            "Requirement already satisfied: cramjam>=2.3.0 in /usr/local/lib/python3.7/dist-packages (from fastparquet>=0.8.1->nfl_data_py) (2.5.0)\n",
            "Requirement already satisfied: python-dateutil>=2.7.3 in /usr/local/lib/python3.7/dist-packages (from pandas>=1.3.5->nfl_data_py) (2.8.2)\n",
            "Requirement already satisfied: pytz>=2017.3 in /usr/local/lib/python3.7/dist-packages (from pandas>=1.3.5->nfl_data_py) (2022.1)\n",
            "Requirement already satisfied: six>=1.5 in /usr/local/lib/python3.7/dist-packages (from python-dateutil>=2.7.3->pandas>=1.3.5->nfl_data_py) (1.15.0)\n"
          ]
        }
      ],
      "source": [
        "pip install nfl_data_py"
      ]
    },
    {
      "cell_type": "markdown",
      "source": [
        "# Data Imports"
      ],
      "metadata": {
        "id": "ttqmK8GgI9fd"
      }
    },
    {
      "cell_type": "code",
      "source": [
        "import nfl_data_py as nfl\n",
        "import pandas as pd\n",
        "import numpy as np\n",
        "from sklearn.neural_network import MLPClassifier\n",
        "from sklearn.model_selection import train_test_split\n",
        "from sklearn.preprocessing import StandardScaler"
      ],
      "metadata": {
        "id": "lklosXq01SmM"
      },
      "execution_count": 340,
      "outputs": []
    },
    {
      "cell_type": "code",
      "source": [
        "seasons = [2018,2019,2020]\n",
        "pbp = nfl.import_pbp_data([2020])\n",
        "rosters = nfl.import_depth_charts(seasons)\n",
        "weekly_2020 = nfl.import_weekly_data([2020],columns=['week','season','player_id','recent_team','completions','attempts','passing_yards','passing_tds','sacks','carries',\n",
        "                                                    'rushing_yards','rushing_tds','interceptions','sack_fumbles','rushing_fumbles','receptions','targets','receiving_tds',\n",
        "                                                    'receiving_yards','receiving_fumbles'])\n",
        "pbp_cols = ['game_id','home_team','away_team','season_type','week','posteam_type','yardline_100','game_date','half_seconds_remaining','game_seconds_remaining','down','goal_to_go',\n",
        "            'ydstogo','play_type','yards_gained','shotgun','no_huddle','qb_dropback','qb_kneel','qb_spike','qb_scramble','pass_length','pass_location','air_yards','yards_after_catch',\n",
        "            'run_location','run_gap','field_goal_result','kick_distance','extra_point_result','two_point_conv_result','home_timeouts_remaining','away_timeouts_remaining',\n",
        "            'timeout','td_player_id','total_home_score','total_away_score','punt_blocked','incomplete_pass','interception','touchback','punt_fair_catch','fumble_forced','fumble_not_forced','rushing_yards',\n",
        "            'safety','penalty','fumble_lost','qb_hit','sack','touchdown','return_touchdown','extra_point_attempt','two_point_attempt','field_goal_attempt','punt_attempt','fumble', 'wp',\n",
        "            'passer_player_id','receiver_player_id','rusher_player_id','interception_player_id','punt_returner_player_id','kickoff_returner_player_id','punter_player_id','kicker_player_id',\n",
        "            'tackle_for_loss_1_player_id','solo_tackle_1_player_id','assist_tackle_1_player_id','pass_defense_1_player_id','tackle_with_assist_1_player_id','fumbled_1_player_id','fumble_recovery_1_player_id',\n",
        "            'sack_player_id','half_sack_1_player_id','half_sack_2_player_id','penalty_player_id','penalty_type','season','special_teams_play','spread_line','total_line','div_game','home_coach','away_coach', 'score_differential', 'out_of_bounds'\n",
        "            ]\n",
        "pbp = pbp[pbp_cols]"
      ],
      "metadata": {
        "colab": {
          "base_uri": "https://localhost:8080/"
        },
        "id": "gA5ksv7y0ND7",
        "outputId": "3f1ca696-81de-41aa-de88-3376c6674936"
      },
      "execution_count": 341,
      "outputs": [
        {
          "output_type": "stream",
          "name": "stdout",
          "text": [
            "2020 done.\n",
            "Downcasting floats.\n",
            "Downcasting floats.\n"
          ]
        }
      ]
    },
    {
      "cell_type": "markdown",
      "source": [
        "#Home/Away Data"
      ],
      "metadata": {
        "id": "B-3j73Crl4G_"
      }
    },
    {
      "cell_type": "code",
      "source": [
        "teams = weekly_2020.groupby('recent_team')\n",
        "teams_ha = weekly_2020.groupby('recent_team')\n",
        "stats = (teams.sum().divide(teams['week'].max(), axis=0))\n",
        "stats['comp_percentage'] = stats['completions']/stats['attempts']"
      ],
      "metadata": {
        "id": "7PrlYlYoBSdK"
      },
      "execution_count": 342,
      "outputs": []
    },
    {
      "cell_type": "code",
      "source": [
        "weekly_matchups = pbp[['home_team','away_team','week']].drop_duplicates()\n",
        "mid = weekly_2020.merge(weekly_matchups, left_on=['week','recent_team'],right_on=['week','home_team'],how='left')\n",
        "weekly_2020 = mid.merge(weekly_matchups, left_on=['week','recent_team'],right_on=['week','away_team'],how='left')\n",
        "weekly_2020['home_team_x'].fillna(weekly_2020['home_team_y'],inplace=True)\n",
        "weekly_2020['away_team_x'].fillna(weekly_2020['away_team_y'],inplace=True)\n",
        "weekly_2020.drop(['home_team_y','away_team_y'], axis=1,inplace= True)\n",
        "weekly_2020.rename({'home_team_x': 'home_team', 'away_team_x' : 'away_team'},axis=1, inplace=True)\n",
        "weekly_2020['opp'] = weekly_2020['home_team']\n",
        "weekly_2020.loc[weekly_2020['opp'] == weekly_2020['recent_team'], 'opp'] = weekly_2020['away_team']\n",
        "home_off = weekly_2020.loc[weekly_2020['home_team'] == weekly_2020['recent_team']]\n",
        "away_off = weekly_2020.loc[weekly_2020['away_team'] == weekly_2020['recent_team']]\n",
        "home_def = weekly_2020.loc[weekly_2020['home_team'] == weekly_2020['opp']]\n",
        "away_def = weekly_2020.loc[weekly_2020['away_team'] == weekly_2020['opp']]"
      ],
      "metadata": {
        "id": "4adtmQIYC3hF"
      },
      "execution_count": 343,
      "outputs": []
    },
    {
      "cell_type": "code",
      "source": [
        "n_home = home_off.drop_duplicates(subset=['week','home_team','away_team'])\n",
        "team_n_home = n_home.groupby('recent_team')\n",
        "h_game_counts = (team_n_home.count()['week'])\n",
        "n_away = away_off.drop_duplicates(subset=['week','home_team','away_team'])\n",
        "team_n_away = n_away.groupby('recent_team')\n",
        "a_game_counts = (team_n_away.count()['week'])"
      ],
      "metadata": {
        "id": "aHsmDiAxLQ84"
      },
      "execution_count": 344,
      "outputs": []
    },
    {
      "cell_type": "code",
      "source": [
        "#gets average of home and away games for all teams, used to adjust true team stats\n",
        "h_group = home_off.groupby('recent_team')\n",
        "a_group = away_off.groupby('recent_team')\n",
        "h_averages = h_group.sum().divide(h_game_counts, axis=0)\n",
        "a_averages = a_group.sum().divide(a_game_counts, axis=0)\n",
        "h_avg = h_averages.mean()\n",
        "a_avg = a_averages.mean()\n",
        "adj_h = h_averages + (h_averages - h_avg)\n",
        "adj_a = a_averages + (a_averages - a_avg)\n",
        "adj_h = adj_h.drop(['week'],axis=1)\n",
        "adj_a = adj_a.drop(['week'],axis=1)\n",
        "h_avg = h_avg.drop(['week'])\n",
        "a_avg = a_avg.drop(['week']) \n",
        "adj_offs = (adj_a + adj_h)/2\n",
        "adj_offs['YPC'] = adj_offs['rushing_yards']/adj_offs['carries']\n",
        "adj_offs['YPA'] = adj_offs['passing_yards']/adj_offs['attempts']\n",
        "adj_offs['sack_rate'] = adj_offs['sacks']/(adj_offs['attempts']+adj_offs['sacks'])\n",
        "adj_offs['int_rate'] = adj_offs['interceptions']/(adj_offs['attempts'])\n",
        "adj_offs['sack_fumble_rate'] = adj_offs['sack_fumbles']/(adj_offs['sacks'])\n",
        "adj_offs['rushing_fumble_rate'] = adj_offs['rushing_fumbles']/(adj_offs['carries'])\n",
        "adj_offs['receiving_fumble_rate'] = adj_offs['receiving_fumbles']/(adj_offs['receptions'])\n",
        "adj_offs.loc[adj_offs['sack_fumble_rate'] < .005, 'sack_fumble_rate'] = .005\n",
        "adj_offs.loc[adj_offs['rushing_fumble_rate'] < .005, 'rushing_fumble_rate'] = .005\n",
        "adj_offs.loc[adj_offs['receiving_fumble_rate'] < .005, 'receiving_fumble_rate'] = .005"
      ],
      "metadata": {
        "id": "1LqwEF417q33"
      },
      "execution_count": 345,
      "outputs": []
    },
    {
      "cell_type": "code",
      "source": [
        "#gets average of home and away games for all teams, used to adjust true team stats\n",
        "h_group = home_off.groupby('opp')\n",
        "a_group = away_off.groupby('opp')\n",
        "h_averages = h_group.sum().divide(h_game_counts, axis=0)\n",
        "a_averages = a_group.sum().divide(a_game_counts, axis=0)\n",
        "h_avg = h_averages.mean()\n",
        "a_avg = a_averages.mean()\n",
        "adj_h = h_averages + (h_averages - h_avg)\n",
        "adj_a = a_averages + (a_averages - a_avg)\n",
        "adj_h = adj_h.drop(['week'],axis=1)\n",
        "adj_a = adj_a.drop(['week'],axis=1)\n",
        "h_avg = h_avg.drop(['week'])\n",
        "a_avg = a_avg.drop(['week']) \n",
        "adj_defs = (adj_a + adj_h)/2\n",
        "adj_defs['YPC'] = adj_defs['rushing_yards']/adj_defs['carries']\n",
        "adj_defs['YPA'] = adj_defs['passing_yards']/adj_defs['attempts']\n",
        "adj_defs['sack_rate'] = adj_defs['sacks']/(adj_defs['attempts']+adj_defs['sacks'])\n",
        "adj_defs['int_rate'] = adj_defs['interceptions']/(adj_defs['attempts'])\n",
        "adj_defs['sack_fumble_rate'] = adj_defs['sack_fumbles']/(adj_defs['sacks'])\n",
        "adj_defs['rushing_fumble_rate'] = adj_defs['rushing_fumbles']/(adj_defs['carries'])\n",
        "adj_defs['receiving_fumble_rate'] = adj_defs['receiving_fumbles']/(adj_defs['receptions'])\n",
        "adj_defs.loc[adj_defs['sack_fumble_rate'] < .005, 'sack_fumble_rate'] = .005\n",
        "adj_defs.loc[adj_defs['rushing_fumble_rate'] < .005, 'rushing_fumble_rate'] = .005\n",
        "adj_defs.loc[adj_defs['receiving_fumble_rate'] < .005, 'receiving_fumble_rate'] = .005"
      ],
      "metadata": {
        "id": "hteT3A4WZe6s"
      },
      "execution_count": 346,
      "outputs": []
    },
    {
      "cell_type": "markdown",
      "source": [
        "Very advantage across most stats for the home team, slightly more yards, tds etc. Sacks being negative is good for team, as sacks here are sacks taken by the team and not sacks the team got on the opponent."
      ],
      "metadata": {
        "id": "Q8-DOwmzX38-"
      }
    },
    {
      "cell_type": "markdown",
      "source": [
        "#PBP grouping"
      ],
      "metadata": {
        "id": "0Bu8jkgil_9j"
      }
    },
    {
      "cell_type": "code",
      "source": [
        "pbp = pbp.loc[pbp['penalty_type'].isna()]\n",
        "pbp.loc[pbp['air_yards'] < 5, 'pass_length'] = 'short'\n",
        "pbp.loc[(pbp['air_yards'] > 5) & (pbp['air_yards'] <= 15), 'pass_length'] = 'medium'\n",
        "pbp.loc[pbp['air_yards'] > 15, 'pass_length'] = 'deep'\n",
        "pbp.loc[((pbp['yardline_100'] <= 20) & (pbp['yardline_100'] > pbp['air_yards'])), 'pass_length'] = 'rz_short'\n",
        "pbp.loc[((pbp['yardline_100'] <= 20) & (pbp['yardline_100'] <= pbp['air_yards'])), 'pass_length'] = 'rz_endzone'\n",
        "pbp.loc[((pbp['yardline_100'] > 20) & (pbp['yardline_100'] <= pbp['air_yards'])), 'pass_length'] = 'long_endzone'\n",
        "pbp.loc[((pbp['passer_player_id'].notna()) & (pbp['receiver_player_id'].isna())), 'pass_length'] = 'throw_away'\n",
        "pbp.loc[pbp['sack'] == 1, 'pass_length'] = 'sack'\n",
        "pbp.loc[pbp['qb_scramble'] == 1, 'pass_length'] = 'scramble'\n",
        "pbp.loc[pbp['qb_scramble'] == 1, 'passer_player_id'] = pbp['rusher_player_id']\n",
        "pbp.loc[pbp['qb_spike'] == 1, 'pass_length'] = 'spike'\n",
        "pbp.loc[pbp['qb_kneel'] == 1, 'pass_length'] = 'kneel'\n",
        "pbp.loc[pbp['qb_scramble'] == 1, 'rusher_player_id'] = None\n",
        "passing_plays = pbp.loc[pbp['pass_length'].notna()]\n",
        "non_passing = pbp.loc[pbp['pass_length'].isna()]"
      ],
      "metadata": {
        "colab": {
          "base_uri": "https://localhost:8080/"
        },
        "id": "6u7PJGo7nLN5",
        "outputId": "65c11f9b-8c72-4f8f-ea3b-b9de56cc0549"
      },
      "execution_count": 347,
      "outputs": [
        {
          "output_type": "stream",
          "name": "stderr",
          "text": [
            "/usr/local/lib/python3.7/dist-packages/pandas/core/indexing.py:1817: SettingWithCopyWarning: \n",
            "A value is trying to be set on a copy of a slice from a DataFrame.\n",
            "Try using .loc[row_indexer,col_indexer] = value instead\n",
            "\n",
            "See the caveats in the documentation: https://pandas.pydata.org/pandas-docs/stable/user_guide/indexing.html#returning-a-view-versus-a-copy\n",
            "  self._setitem_single_column(loc, value, pi)\n",
            "/usr/local/lib/python3.7/dist-packages/pandas/core/indexing.py:1773: SettingWithCopyWarning: \n",
            "A value is trying to be set on a copy of a slice from a DataFrame.\n",
            "Try using .loc[row_indexer,col_indexer] = value instead\n",
            "\n",
            "See the caveats in the documentation: https://pandas.pydata.org/pandas-docs/stable/user_guide/indexing.html#returning-a-view-versus-a-copy\n",
            "  self._setitem_single_column(ilocs[0], value, pi)\n"
          ]
        }
      ]
    },
    {
      "cell_type": "code",
      "source": [
        "rec_plays = passing_plays.loc[pbp['receiver_player_id'].notna()]\n",
        "rec_plays.loc[rec_plays['pass_length'] == 'short', 'pass_length_rec'] = 'rec_short'\n",
        "rec_plays.loc[rec_plays['pass_length'] == 'medium', 'pass_length_rec'] = 'rec_medium'\n",
        "rec_plays.loc[rec_plays['pass_length'] == 'deep', 'pass_length_rec'] = 'rec_deep'\n",
        "rec_plays.loc[rec_plays['pass_length'] == 'rz_short', 'pass_length_rec'] = 'rec_rz_short'\n",
        "rec_plays.loc[rec_plays['pass_length'] == 'rz_endzone', 'pass_length_rec'] = 'rec_rz_endzone'\n",
        "rec_plays.loc[rec_plays['pass_length'] == 'long_endzone', 'pass_length_rec'] = 'rec_long_endzone'\n",
        "running_plays = non_passing.loc[non_passing['run_gap'].notna()]\n",
        "fg_plays = non_passing.loc[non_passing['play_type'] == 'field_goal']\n",
        "extra_point_plays = non_passing.loc[non_passing['play_type'] == 'extra_point']\n",
        "kickoff_plays = non_passing.loc[non_passing['play_type'] == 'kickoff']\n",
        "punt_plays = non_passing.loc[non_passing['play_type'] == 'punt']"
      ],
      "metadata": {
        "colab": {
          "base_uri": "https://localhost:8080/"
        },
        "id": "GjVOGtoQEKj0",
        "outputId": "2171a509-05f9-4dc9-8d8f-d2b06644e061"
      },
      "execution_count": 348,
      "outputs": [
        {
          "output_type": "stream",
          "name": "stderr",
          "text": [
            "/usr/local/lib/python3.7/dist-packages/pandas/core/indexing.py:1684: SettingWithCopyWarning: \n",
            "A value is trying to be set on a copy of a slice from a DataFrame.\n",
            "Try using .loc[row_indexer,col_indexer] = value instead\n",
            "\n",
            "See the caveats in the documentation: https://pandas.pydata.org/pandas-docs/stable/user_guide/indexing.html#returning-a-view-versus-a-copy\n",
            "  self.obj[key] = infer_fill_value(value)\n",
            "/usr/local/lib/python3.7/dist-packages/pandas/core/indexing.py:1817: SettingWithCopyWarning: \n",
            "A value is trying to be set on a copy of a slice from a DataFrame.\n",
            "Try using .loc[row_indexer,col_indexer] = value instead\n",
            "\n",
            "See the caveats in the documentation: https://pandas.pydata.org/pandas-docs/stable/user_guide/indexing.html#returning-a-view-versus-a-copy\n",
            "  self._setitem_single_column(loc, value, pi)\n"
          ]
        }
      ]
    },
    {
      "cell_type": "markdown",
      "source": [
        "#Rosters"
      ],
      "metadata": {
        "id": "bf9pjKzXmLhp"
      }
    },
    {
      "cell_type": "code",
      "source": [
        "rosters = rosters[['season','week','team','formation','position','depth_team','full_name','gsis_id']]\n",
        "rosters = rosters.drop(rosters[(((rosters.position != 'K') & (rosters.position !=  'P')) & (rosters.formation == 'Special Teams'))].index)\n",
        "player_info = rosters[['gsis_id','position','full_name','formation']]\n",
        "player_info.rename({'gsis_id' : 'player_id'}, inplace=True, axis=1)\n",
        "player_info.drop_duplicates(inplace=True)\n",
        "team_rosters_weekly = rosters.groupby(['team','season','week'])"
      ],
      "metadata": {
        "id": "KEfGjL7BVLSv",
        "colab": {
          "base_uri": "https://localhost:8080/"
        },
        "outputId": "17a313ef-ecc1-4a4b-b4b5-9495f0b0972d"
      },
      "execution_count": 349,
      "outputs": [
        {
          "output_type": "stream",
          "name": "stderr",
          "text": [
            "/usr/local/lib/python3.7/dist-packages/pandas/core/frame.py:5047: SettingWithCopyWarning: \n",
            "A value is trying to be set on a copy of a slice from a DataFrame\n",
            "\n",
            "See the caveats in the documentation: https://pandas.pydata.org/pandas-docs/stable/user_guide/indexing.html#returning-a-view-versus-a-copy\n",
            "  errors=errors,\n",
            "/usr/local/lib/python3.7/dist-packages/pandas/util/_decorators.py:311: SettingWithCopyWarning: \n",
            "A value is trying to be set on a copy of a slice from a DataFrame\n",
            "\n",
            "See the caveats in the documentation: https://pandas.pydata.org/pandas-docs/stable/user_guide/indexing.html#returning-a-view-versus-a-copy\n",
            "  return func(*args, **kwargs)\n"
          ]
        }
      ]
    },
    {
      "cell_type": "markdown",
      "source": [
        "#Pre-Play Decison Data and Models\n"
      ],
      "metadata": {
        "id": "8WkEYdnqNpz4"
      }
    },
    {
      "cell_type": "markdown",
      "source": [
        "## Coach Data Creation"
      ],
      "metadata": {
        "id": "PDi3W8WImajy"
      }
    },
    {
      "cell_type": "code",
      "source": [
        "pbp['play_category'] = None\n",
        "pbp.loc[((pbp['down'] == 1) & (pbp['ydstogo'] == 10)),'play_category'] = '1_down'\n",
        "pbp.loc[((pbp['down'] == 2) & (pbp['ydstogo'] < 3)),'play_category'] = '2_short'\n",
        "pbp.loc[((pbp['down'] == 3) & (pbp['ydstogo'] < 3)),'play_category'] = '3/4_short'\n",
        "pbp.loc[((pbp['down'] == 4) & (pbp['ydstogo'] < 3)),'play_category'] = '3/4_short'\n",
        "pbp.loc[((pbp['down'] == 2) & (pbp['ydstogo'] < 7) & (pbp['ydstogo'] >= 3)),'play_category'] = '2_medium'\n",
        "pbp.loc[((pbp['down'] == 3) & (pbp['ydstogo'] < 7) & (pbp['ydstogo'] >= 3)),'play_category'] = '3/4_medium'\n",
        "pbp.loc[((pbp['down'] == 4) & (pbp['ydstogo'] < 7) & (pbp['ydstogo'] >= 3)),'play_category'] = '3/4_medium'\n",
        "pbp.loc[((pbp['down'] == 2) & (pbp['ydstogo'] >= 7)) ,'play_category'] = '2_long'\n",
        "pbp.loc[((pbp['down'] == 3) & (pbp['ydstogo'] >= 7)) ,'play_category'] = '3/4_long'\n",
        "pbp.loc[((pbp['down'] == 4) & (pbp['ydstogo'] >= 7)) ,'play_category'] = '3/4_long'\n",
        "pbp.loc[pbp['qb_scramble'] == 1, 'play_type'] = 'pass'"
      ],
      "metadata": {
        "id": "-Voc-ucstFAP"
      },
      "execution_count": 220,
      "outputs": []
    },
    {
      "cell_type": "code",
      "source": [
        "coaches = list(pbp['home_coach'].drop_duplicates())\n",
        "pbp['neutral'] = 0\n",
        "pbp.loc[(pbp['half_seconds_remaining'] > 180) & ((pbp['wp'] < .9) & (pbp['wp'] > .1)), 'neutral'] = 1\n",
        "pbp['pos_coach'] = pbp['home_coach']\n",
        "pbp.loc[(pbp['posteam_type']) == 'away','pos_coach'] = pbp['away_coach']\n",
        "pass_run_only = pbp[(pbp['play_type'] == 'pass') | (pbp['play_type'] == 'run')]\n",
        "neutral_plays = pass_run_only.loc[pbp['neutral'] == 1]"
      ],
      "metadata": {
        "id": "G4qMaj7Ps0LR"
      },
      "execution_count": 221,
      "outputs": []
    },
    {
      "cell_type": "code",
      "source": [
        "#DATA NOT CURRENTLY USED, KEEPING FOR POSSIBLE USE FOR HAND MODEL\n",
        "losing_plays = pass_run_only.loc[(pass_run_only['half_seconds_remaining'] > 180) & ((pass_run_only['wp'] < .1))]\n",
        "winning_plays = pass_run_only.loc[(pass_run_only['half_seconds_remaining'] > 180) & ((pass_run_only['wp'] > .9))]\n",
        "two_minute_plays = pass_run_only.loc[(pass_run_only['half_seconds_remaining'] < 180) & ((pass_run_only['wp'] < .9) & (pass_run_only['wp'] > .1))]\n",
        "two_minute_losing_plays = pass_run_only.loc[(pass_run_only['half_seconds_remaining'] < 180) & (pass_run_only['wp'] < .1)]\n",
        "two_minute_winning_plays = pass_run_only.loc[(pass_run_only['half_seconds_remaining'] < 180) & (pass_run_only['wp'] > .9)]\n",
        "\n",
        "losing = losing_plays[['play_category','play_type']]\n",
        "winning = winning_plays[['play_category','play_type']]\n",
        "two_minute = two_minute_plays [['play_category','play_type']]\n",
        "two_min_winning = two_minute_winning_plays[['play_category','play_type']]\n",
        "two_min_losing =  two_minute_losing_plays[['play_category','play_type']]"
      ],
      "metadata": {
        "id": "wCWxFoG0oC5I"
      },
      "execution_count": 224,
      "outputs": []
    },
    {
      "cell_type": "code",
      "source": [
        "coach_data = neutral_plays[['pos_coach','play_category','play_type']].dropna()\n",
        "coach_groups = coach_data.groupby(['pos_coach','play_category'])\n",
        "\n",
        "coach_dict = {}\n",
        "for i in coaches:\n",
        "    coach_dict[i] = {'1_down':0,'2_short':0,'3/4_short':0,'2_medium':0,'3/4_medium':0,'2_long':0,'3/4_long':0}\n",
        "\n",
        "for g in coach_groups.groups:\n",
        "  if 'pass' in list(coach_groups.get_group(g)['play_type']):\n",
        "    coach_dict[g[0]][g[1]] = coach_groups.get_group(g)['play_type'].value_counts()['pass']/coach_groups.get_group(g)['play_type'].count()    \n",
        "\n",
        "coach_df = pd.DataFrame(coach_dict).transpose()\n",
        "coach_df.loc['DEFAULT'] = coach_df.mean()\n",
        "coach_dict = coach_df.transpose().to_dict()"
      ],
      "metadata": {
        "id": "KPt8KNIoz74E"
      },
      "execution_count": 229,
      "outputs": []
    },
    {
      "cell_type": "code",
      "source": [
        "categories = ['1_down','2_short','3/4_short','2_medium','3/4_medium','2_long','3/4_long']\n",
        "for i in coaches:\n",
        "  for j in categories:\n",
        "    pass_run_only.loc[(pass_run_only['play_category'] == j) & (pass_run_only['pos_coach'] == i), 'coach_neutral_pass_rate'] = coach_dict[i][j]"
      ],
      "metadata": {
        "colab": {
          "base_uri": "https://localhost:8080/"
        },
        "id": "cvpecQGL4VRr",
        "outputId": "2809c4af-4c94-49d2-cd46-ccb5cefbaeae"
      },
      "execution_count": 230,
      "outputs": [
        {
          "output_type": "stream",
          "name": "stderr",
          "text": [
            "/usr/local/lib/python3.7/dist-packages/pandas/core/indexing.py:1817: SettingWithCopyWarning: \n",
            "A value is trying to be set on a copy of a slice from a DataFrame.\n",
            "Try using .loc[row_indexer,col_indexer] = value instead\n",
            "\n",
            "See the caveats in the documentation: https://pandas.pydata.org/pandas-docs/stable/user_guide/indexing.html#returning-a-view-versus-a-copy\n",
            "  self._setitem_single_column(loc, value, pi)\n"
          ]
        }
      ]
    },
    {
      "cell_type": "markdown",
      "source": [
        "##4th Down Decsion"
      ],
      "metadata": {
        "id": "6vSbJ1VyKjgH"
      }
    },
    {
      "cell_type": "code",
      "source": [
        "fourth_down_data = pbp.loc[(pbp['down'] == 4)][['play_type','pos_coach','yardline_100','half_seconds_remaining','game_seconds_remaining','goal_to_go','ydstogo','score_differential']]\n",
        "fourth_down_data.loc[(fourth_down_data['play_type'] == 'pass') | (fourth_down_data['play_type'] == 'run'), 'play_type'] = 'go_for_it'\n",
        "fourth_down_data.dropna(inplace=True)\n",
        "fourth_down_data = fourth_down_data.loc[(fourth_down_data['play_type'] != 'qb_kneel') & (fourth_down_data['play_type'] != 'no_play')]\n",
        "fourth_down_data['play_type'].unique()"
      ],
      "metadata": {
        "id": "QMqQMspOMZtP"
      },
      "execution_count": 308,
      "outputs": []
    },
    {
      "cell_type": "code",
      "source": [
        "coach_fourth_down_data = fourth_down_data[['pos_coach','play_type']]\n",
        "coach_fourth_down_groups = coach_fourth_down_data.groupby('pos_coach')\n",
        "coach_fourth_down_dict = {}\n",
        "for i in coaches:\n",
        "    coach_fourth_down_dict[i] = {'go_for_it_rate' : 0}\n",
        "\n",
        "for g in coach_fourth_down_groups.groups:\n",
        "  if 'go_for_it' in list(coach_fourth_down_groups.get_group(g)['play_type']):\n",
        "    coach_fourth_down_dict[g]['go_for_it_rate'] = coach_fourth_down_groups.get_group(g)['play_type'].value_counts()['go_for_it']/coach_fourth_down_groups.get_group(g)['play_type'].count()\n",
        "\n",
        "coach_fourth_down_df = pd.DataFrame(coach_fourth_down_dict).transpose()\n",
        "coach_fourth_down_df.loc['DEFAULT'] = coach_fourth_down_df.mean()\n",
        "coach_fourth_down_dict = coach_fourth_down_df.transpose().to_dict()\n",
        "fourth_down_data = fourth_down_data.merge(coach_fourth_down_df, left_on='pos_coach', right_index=True).drop('pos_coach',axis=1)"
      ],
      "metadata": {
        "id": "CvPNEfbFUHkB"
      },
      "execution_count": 327,
      "outputs": []
    },
    {
      "cell_type": "code",
      "source": [
        "from sklearn.neural_network import MLPClassifier\n",
        "from sklearn.model_selection import train_test_split\n",
        "from sklearn.preprocessing import StandardScaler\n",
        "num_cols = ['yardline_100','half_seconds_remaining','game_seconds_remaining','ydstogo','score_differential','go_for_it_rate']\n",
        "fourth_down_scaler = StandardScaler()\n",
        "fourth_down_data[num_cols] = fourth_down_scaler.fit_transform(fourth_down_data[num_cols])\n",
        "X = fourth_down_data.drop('play_type',axis=1)\n",
        "y = fourth_down_data['play_type']\n",
        "X_train, X_test, y_train, y_test = train_test_split(X, y, random_state=42)\n",
        "fourth_down_clf = MLPClassifier(random_state=42, max_iter=300).fit(X_train, y_train)\n",
        "fourth_down_clf.score(X_test,y_test)"
      ],
      "metadata": {
        "colab": {
          "base_uri": "https://localhost:8080/"
        },
        "id": "N9QXnnCvVBhF",
        "outputId": "b706f5c2-cf86-4b4c-e81d-fe992f1547f1"
      },
      "execution_count": 331,
      "outputs": [
        {
          "output_type": "stream",
          "name": "stderr",
          "text": [
            "/usr/local/lib/python3.7/dist-packages/sklearn/neural_network/_multilayer_perceptron.py:696: ConvergenceWarning: Stochastic Optimizer: Maximum iterations (300) reached and the optimization hasn't converged yet.\n",
            "  ConvergenceWarning,\n"
          ]
        },
        {
          "output_type": "execute_result",
          "data": {
            "text/plain": [
              "0.9136522753792299"
            ]
          },
          "metadata": {},
          "execution_count": 331
        }
      ]
    },
    {
      "cell_type": "code",
      "source": [
        "X_test_pred = fourth_down_clf.predict(X_test)"
      ],
      "metadata": {
        "id": "RhrBRH1LWeNj"
      },
      "execution_count": 334,
      "outputs": []
    },
    {
      "cell_type": "code",
      "source": [
        "np.unique(X_test_pred,return_counts=True)"
      ],
      "metadata": {
        "colab": {
          "base_uri": "https://localhost:8080/"
        },
        "id": "Xeb-nETyW5Yk",
        "outputId": "181b7a62-d3b5-4afd-ca89-749c202378a9"
      },
      "execution_count": 337,
      "outputs": [
        {
          "output_type": "execute_result",
          "data": {
            "text/plain": [
              "(array(['field_goal', 'go_for_it', 'punt'], dtype='<U10'),\n",
              " array([246, 158, 453]))"
            ]
          },
          "metadata": {},
          "execution_count": 337
        }
      ]
    },
    {
      "cell_type": "code",
      "source": [
        "np.unique(y_test,return_counts=True)"
      ],
      "metadata": {
        "colab": {
          "base_uri": "https://localhost:8080/"
        },
        "id": "IAcXKlANXlzH",
        "outputId": "d0c985e2-334f-4e60-e2fa-b2f9230d3d89"
      },
      "execution_count": 338,
      "outputs": [
        {
          "output_type": "execute_result",
          "data": {
            "text/plain": [
              "(array(['field_goal', 'go_for_it', 'punt'], dtype=object),\n",
              " array([239, 172, 446]))"
            ]
          },
          "metadata": {},
          "execution_count": 338
        }
      ]
    },
    {
      "cell_type": "markdown",
      "source": [
        "##Pass Run Model\n"
      ],
      "metadata": {
        "id": "SU9-6Bthmm7y"
      }
    },
    {
      "cell_type": "markdown",
      "source": [
        "###MLP Model"
      ],
      "metadata": {
        "id": "a7H-uJZ7Iq9a"
      }
    },
    {
      "cell_type": "code",
      "source": [
        "pred_vars = pass_run_only[['play_type','yardline_100','half_seconds_remaining','game_seconds_remaining','down','goal_to_go','ydstogo','score_differential','neutral','coach_neutral_pass_rate']]\n",
        "pred_vars['down']=pred_vars.down.astype('category')\n",
        "dummies = pd.get_dummies(pred_vars['down'])\n",
        "pred_vars = pd.concat([pred_vars,dummies],axis=1)\n",
        "pred_vars.drop('down',axis=1,inplace=True)"
      ],
      "metadata": {
        "colab": {
          "base_uri": "https://localhost:8080/"
        },
        "id": "rgCiosAO63Ac",
        "outputId": "df03cd0a-df7f-4c2c-c24d-630d2cbccfbb"
      },
      "execution_count": 291,
      "outputs": [
        {
          "output_type": "stream",
          "name": "stderr",
          "text": [
            "/usr/local/lib/python3.7/dist-packages/ipykernel_launcher.py:2: SettingWithCopyWarning: \n",
            "A value is trying to be set on a copy of a slice from a DataFrame.\n",
            "Try using .loc[row_indexer,col_indexer] = value instead\n",
            "\n",
            "See the caveats in the documentation: https://pandas.pydata.org/pandas-docs/stable/user_guide/indexing.html#returning-a-view-versus-a-copy\n",
            "  \n"
          ]
        }
      ]
    },
    {
      "cell_type": "code",
      "source": [
        "num_cols = ['yardline_100','half_seconds_remaining','game_seconds_remaining','ydstogo','score_differential','coach_neutral_pass_rate']\n",
        "pred_vars.dropna(inplace=True)\n",
        "\n",
        "pass_run_scaler = StandardScaler()\n",
        "pred_vars[num_cols] = pass_run_scaler.fit_transform(pred_vars[num_cols])\n",
        "X = pred_vars.drop('play_type',axis=1)\n",
        "y = pred_vars['play_type']\n",
        "X_train, X_test, y_train, y_test = train_test_split(X, y, random_state=42)\n",
        "pass_run_clf = MLPClassifier(random_state=42, max_iter=300).fit(X_train, y_train)\n",
        "pass_run_clf.score(X_test,y_test)"
      ],
      "metadata": {
        "colab": {
          "base_uri": "https://localhost:8080/"
        },
        "id": "xLPSOqW_-ztT",
        "outputId": "4fc77204-c132-406b-e72a-16dc6a008403"
      },
      "execution_count": 286,
      "outputs": [
        {
          "output_type": "stream",
          "name": "stderr",
          "text": [
            "/usr/local/lib/python3.7/dist-packages/sklearn/utils/validation.py:1692: FutureWarning: Feature names only support names that are all strings. Got feature names with dtypes: ['float', 'str']. An error will be raised in 1.2.\n",
            "  FutureWarning,\n",
            "/usr/local/lib/python3.7/dist-packages/sklearn/utils/validation.py:1692: FutureWarning: Feature names only support names that are all strings. Got feature names with dtypes: ['float', 'str']. An error will be raised in 1.2.\n",
            "  FutureWarning,\n"
          ]
        },
        {
          "output_type": "execute_result",
          "data": {
            "text/plain": [
              "0.7203337068858174"
            ]
          },
          "metadata": {},
          "execution_count": 286
        }
      ]
    },
    {
      "cell_type": "code",
      "source": [
        "X_test_pred = pass_run_clf.predict(X_test)"
      ],
      "metadata": {
        "id": "EDds6i_BYLeN"
      },
      "execution_count": null,
      "outputs": []
    },
    {
      "cell_type": "code",
      "source": [
        "np.unique(X_test_pred,return_counts=True)"
      ],
      "metadata": {
        "id": "VgpCfRscXzr2"
      },
      "execution_count": null,
      "outputs": []
    },
    {
      "cell_type": "code",
      "source": [
        "np.unique(y_test,return_counts=True)"
      ],
      "metadata": {
        "id": "J_z0jUmFYIP0"
      },
      "execution_count": null,
      "outputs": []
    },
    {
      "cell_type": "markdown",
      "source": [
        "###Handmade Model (IN PROGRESS)"
      ],
      "metadata": {
        "id": "Xs3UQOyCIvOq"
      }
    },
    {
      "cell_type": "code",
      "source": [
        "import numpy as np"
      ],
      "metadata": {
        "id": "-0eUvzEFplcj"
      },
      "execution_count": 41,
      "outputs": []
    },
    {
      "cell_type": "code",
      "source": [
        "pass_run = pbp.loc[(pbp['play_type'] == 'pass') | (pbp['play_type'] == 'run')]\n",
        "pass_run = pass_run[['play_type','yardline_100','half_seconds_remaining','game_seconds_remaining','down','goal_to_go','ydstogo','score_differential','neutral','pos_coach','play_category']]"
      ],
      "metadata": {
        "id": "ZUC0Thl5SoYv"
      },
      "execution_count": 121,
      "outputs": []
    },
    {
      "cell_type": "code",
      "source": [
        "def can_run_out_clock(data):\n",
        "  if data['posteam_type'] == 'home':\n",
        "    opp_team_to = 38 * data['away_timeouts_remaining']\n",
        "  elif data['posteam_type'] == 'away':\n",
        "    opp_team_to = 38 * data['home_timeouts_remaining']\n",
        "  return ((4 - data['down']) * 40) - opp_team_to >= data['game_seconds_remaining']"
      ],
      "metadata": {
        "id": "KPTc9XTKlkaS"
      },
      "execution_count": 155,
      "outputs": []
    },
    {
      "cell_type": "code",
      "source": [
        "def pass_run_choice(data):\n",
        "  if data['pos_coach'] in data.index:\n",
        "    coach = data['pos_coach']\n",
        "  else:\n",
        "    coach = 'DEFAULT'\n",
        "  category = data['play_category']\n",
        "  if data['neutral'] == 1:\n",
        "    pred_play = np.random.choice(['pass','run'], 1, p=[coach_df.loc[coach][category], 1 - coach_df.loc[coach][category]])\n",
        "  return pred_play[0]"
      ],
      "metadata": {
        "id": "Pdyn8EEAiAc8"
      },
      "execution_count": 131,
      "outputs": []
    },
    {
      "cell_type": "markdown",
      "source": [
        "#Misc"
      ],
      "metadata": {
        "id": "EyznHDgUlrDW"
      }
    },
    {
      "cell_type": "code",
      "source": [
        "class pbp_game_sim:\n",
        "  def __init__(self, home_team, away_team, year, week, neutral_loc = False):\n",
        "    self.home_team = team_rosters_weekly.get_group((home_team,year,week))\n",
        "    self.away_team = team_rosters_weekly.get_group((home_team,year,week))\n",
        "    self.home_qb = qb_data[home_team.loc[('position'=='QB') & ('depth_team' == 1),'gsis_id']]\n",
        "    self.away_qb = qb_data[away_team.loc[('position'=='QB') & ('depth_team' == 1),'gsis_id']]\n",
        "    self.selfhome_wrs = wr_data[list(home_team.loc[('position'=='WR'),'gsis_id'])]\n",
        "    self.away_wrs = wr_data[list(away_team.loc[('position'=='WR'),'gsis_id'])]\n",
        "    self.home_rbs = rb_data[list(home_team.loc[('position'=='RB'),'gsis_id'])]\n",
        "    self.away_rbs = rb_data[list(away_team.loc[('position'=='RB'),'gsis_id'])]\n",
        "    self.home_tes = te_data[list(home_team.loc[('position'=='TE'),'gsis_id'])]\n",
        "    self.away_tes = te_data[list(away_team.loc[('position'=='TE'),'gsis_id'])]\n",
        "    self.home_def = def_data[list(home_team.loc[('position'=='TE'),'gsis_id'])]\n",
        "    self.away_def = def_data[list(away_team.loc[('position'=='TE'),'gsis_id'])]"
      ],
      "metadata": {
        "id": "wJWjeDNlVFoZ"
      },
      "execution_count": null,
      "outputs": []
    },
    {
      "cell_type": "markdown",
      "source": [
        "#In Play Data and Models"
      ],
      "metadata": {
        "id": "D4e__-rBcidi"
      }
    },
    {
      "cell_type": "markdown",
      "source": [
        "##Individual Player Data\n"
      ],
      "metadata": {
        "id": "I-xIBLFqliya"
      }
    },
    {
      "cell_type": "code",
      "source": [
        "game_id_merge = pbp[['game_id','home_team','away_team','week','season']]\n",
        "weekly_2020 = weekly_2020.merge(game_id_merge,how='left',on=['home_team','away_team','week','season']).drop_duplicates()\n",
        "w_2020_games = weekly_2020.groupby('game_id')['targets']"
      ],
      "metadata": {
        "id": "9OJ_IgGR5EAr"
      },
      "execution_count": 22,
      "outputs": []
    },
    {
      "cell_type": "code",
      "source": [
        "target_share = pd.Series()\n",
        "carries_share = pd.Series()\n",
        "w_2020_games = weekly_2020.groupby('game_id')\n",
        "for game in w_2020_games.groups:\n",
        "  temp_target_share = w_2020_games.get_group(game)['targets']/w_2020_games.get_group(game)['targets'].sum()\n",
        "  temp_carries_share = w_2020_games.get_group(game)['carries']/w_2020_games.get_group(game)['carries'].sum()\n",
        "  target_share = pd.concat([target_share,temp_target_share])\n",
        "  carries_share = pd.concat([carries_share,temp_carries_share])"
      ],
      "metadata": {
        "id": "9QhTqB8y-iP3",
        "colab": {
          "base_uri": "https://localhost:8080/"
        },
        "outputId": "ed274978-a2f6-4c2d-9dcc-004899048635"
      },
      "execution_count": 23,
      "outputs": [
        {
          "output_type": "stream",
          "name": "stderr",
          "text": [
            "/usr/local/lib/python3.7/dist-packages/ipykernel_launcher.py:1: DeprecationWarning: The default dtype for empty Series will be 'object' instead of 'float64' in a future version. Specify a dtype explicitly to silence this warning.\n",
            "  \"\"\"Entry point for launching an IPython kernel.\n",
            "/usr/local/lib/python3.7/dist-packages/ipykernel_launcher.py:2: DeprecationWarning: The default dtype for empty Series will be 'object' instead of 'float64' in a future version. Specify a dtype explicitly to silence this warning.\n",
            "  \n"
          ]
        }
      ]
    },
    {
      "cell_type": "code",
      "source": [
        "weekly_2020 = weekly_2020.merge(target_share.rename('target_share'),how='left', left_index=True,right_index=True)\n",
        "weekly_2020 = weekly_2020.merge(carries_share.rename('carries_share'),how='left', left_index=True,right_index=True)\n",
        "weekly_2020['comp_per'] = weekly_2020['completions']/weekly_2020['attempts']"
      ],
      "metadata": {
        "id": "XbOTBBLeFBpJ"
      },
      "execution_count": 24,
      "outputs": []
    },
    {
      "cell_type": "code",
      "source": [
        ""
      ],
      "metadata": {
        "id": "5n_S-BiaG5Jj"
      },
      "execution_count": null,
      "outputs": []
    },
    {
      "cell_type": "markdown",
      "source": [
        "##Advanced Player Model/Data (WIP)"
      ],
      "metadata": {
        "id": "x4n2hinVI72y"
      }
    },
    {
      "cell_type": "code",
      "source": [
        "class Player:\n",
        "  def __init__(self, player_id, pos, name):\n",
        "    self.player_id = player_id\n",
        "    self.pos = pos\n",
        "    self.name = name\n",
        "    self.games_order = []\n",
        "    self.play_dists = {}\n",
        "    self.target_share = 0\n",
        "    self.carries_share = 0\n",
        "    self.max_air_yards = 0\n",
        "    self.comp_pers = {}\n",
        "    \n",
        "  #Adds play data for passing plays\n",
        "  def add_pbp_passing_data(self, game, game_id):\n",
        "    play_data = game.groupby('pass_length')\n",
        "    play_types = play_data.groups\n",
        "    current_game = {}\n",
        "    for play in play_types:\n",
        "      current_game[play] = play_data.get_group(play)[['game_id','air_yards','incomplete_pass','interception','sack','yardline_100','rushing_yards','fumble']].dropna(axis=1)\n",
        "      if play not in self.play_dists.keys():\n",
        "        self.play_dists[play] = current_game[play]\n",
        "      else:\n",
        "        self.play_dists[play] = pd.concat([self.play_dists[play],current_game[play]])\n",
        "      if current_game[play]['air_yards'].max() > self.max_air_yards:\n",
        "        self.max_air_yards = current_game[play]['air_yards'].max()\n",
        "    self.games_order.append(game_id)\n",
        "\n",
        "  #Adds play data for rushing plays\n",
        "  def add_pbp_rushing_data(self, game, game_id):\n",
        "    play_data = game.groupby('run_gap')\n",
        "    play_types = play_data.groups\n",
        "    current_game = {}\n",
        "    for play in play_types:\n",
        "      current_game[play] = play_data.get_group(play)[['game_id','rushing_yards','yardline_100','fumble']].dropna(axis=1)\n",
        "      if play not in self.play_dists.keys():\n",
        "        self.play_dists[play] = current_game[play]\n",
        "      else:\n",
        "        self.play_dists[play] = pd.concat([self.play_dists[play],current_game[play]])\n",
        "    \n",
        "    self.games_order.append(game_id)\n",
        "\n",
        "  #Adds play data for recieving plays\n",
        "  def add_pbp_recieving_data(self, game, game_id):\n",
        "    play_data = game.groupby('pass_length_rec')\n",
        "    play_types = play_data.groups\n",
        "    current_game = {}\n",
        "    for play in play_types:\n",
        "      current_game[play] = play_data.get_group(play)[['game_id','air_yards','yards_after_catch','incomplete_pass','yardline_100','fumble']].dropna(axis=1)\n",
        "      if play not in self.play_dists.keys():\n",
        "        self.play_dists[play] = current_game[play]\n",
        "      else:\n",
        "        self.play_dists[play] = pd.concat([self.play_dists[play],current_game[play]])\n",
        "    self.games_order.append(game_id)\n",
        "\n",
        "  def get_prev_games_dist(self, game):\n",
        "    #Checks if the requested sim game is in the data, and makes sure to use data known only before that game during sim\n",
        "    self.current_dists = {}\n",
        "    if game in self.games_order:\n",
        "      game_num = self.games_order.index(game)\n",
        "      prev_games = self.games_order[max(0,game_num-16):game_num]\n",
        "    else:\n",
        "      prev_games = self.games_order[max(0,len(self.games_order)-16):len(self.games_order)]\n",
        "    for key in self.play_dists.keys():\n",
        "      self.current_dists[key] = self.play_dists[key].loc[self.play_dists[key]['game_id'].isin(prev_games)]\n",
        "      if self.pos == 'QB':\n",
        "        if key == 'short' or key == 'medium' or key == 'deep' or key == 'short' or key == 'rz_short' or key == 'rz_endzone' or key == 'long_endzone':\n",
        "          self.comp_pers[key] = len(self.play_dists[key].loc[self.play_dists[key]['incomplete_pass'] == 0])/len(self.play_dists[key])"
      ],
      "metadata": {
        "id": "nb_VlrqRceNx"
      },
      "execution_count": 422,
      "outputs": []
    },
    {
      "cell_type": "code",
      "source": [
        "players = {}\n",
        "player_df = rosters.drop_duplicates(subset='gsis_id')\n",
        "for index, row in player_df.iterrows():\n",
        "  players[row['gsis_id']] = Player(row['gsis_id'],row['position'],row['full_name'])"
      ],
      "metadata": {
        "id": "vriChM6fZ-Zg"
      },
      "execution_count": 425,
      "outputs": []
    },
    {
      "cell_type": "code",
      "source": [
        "games = passing_plays.groupby('game_id')\n",
        "for game in games.groups:\n",
        "  game_group = games.get_group(game).groupby('passer_player_id')\n",
        "  for ind_game in game_group.groups:\n",
        "    if ind_game in players.keys():\n",
        "      if players[ind_game].pos == 'QB':\n",
        "        players[ind_game].add_pbp_passing_data(game_group.get_group(ind_game), game) "
      ],
      "metadata": {
        "id": "yY2tfFqUdha3"
      },
      "execution_count": 426,
      "outputs": []
    },
    {
      "cell_type": "code",
      "source": [
        "games = running_plays.groupby('game_id')\n",
        "for game in games.groups:\n",
        "  game_group = games.get_group(game).groupby('rusher_player_id')\n",
        "  for ind_game in game_group.groups:\n",
        "    if ind_game in players.keys():\n",
        "      if players[ind_game].pos == 'RB' or players[ind_game].pos == 'WR':\n",
        "        players[ind_game].add_pbp_rushing_data(game_group.get_group(ind_game), game) "
      ],
      "metadata": {
        "id": "KZyVGJ-Xt6KX"
      },
      "execution_count": 428,
      "outputs": []
    },
    {
      "cell_type": "code",
      "source": [
        "games = rec_plays.groupby('game_id')\n",
        "for game in games.groups:\n",
        "  game_group = games.get_group(game).groupby('receiver_player_id')\n",
        "  for ind_game in game_group.groups:\n",
        "    if ind_game in players.keys():\n",
        "      if players[ind_game].pos == 'WR' or players[ind_game].pos == 'RB' or players[ind_game].pos == 'TE':\n",
        "        players[ind_game].add_pbp_recieving_data(game_group.get_group(ind_game), game) "
      ],
      "metadata": {
        "id": "00IsPW9zt-aT"
      },
      "execution_count": 427,
      "outputs": []
    },
    {
      "cell_type": "code",
      "source": [
        "short_passes = rec_plays.loc[rec_plays['pass_length_rec'] == 'rec_short']\n",
        "med_passes = rec_plays.loc[rec_plays['pass_length_rec'] == 'rec_medium']\n",
        "deep_passes = rec_plays.loc[rec_plays['pass_length_rec'] == 'rec_deep']\n",
        "short_passes['air_yards'].plot.density()"
      ],
      "metadata": {
        "colab": {
          "base_uri": "https://localhost:8080/",
          "height": 283
        },
        "id": "-l-Z8-P5ybRG",
        "outputId": "cb13b9f2-4d79-4b70-a3be-8f87e8927071"
      },
      "execution_count": 474,
      "outputs": [
        {
          "output_type": "execute_result",
          "data": {
            "text/plain": [
              "<matplotlib.axes._subplots.AxesSubplot at 0x7fd8f464b950>"
            ]
          },
          "metadata": {},
          "execution_count": 474
        },
        {
          "output_type": "display_data",
          "data": {
            "text/plain": [
              "<Figure size 432x288 with 1 Axes>"
            ],
            "image/png": "[encoded data removed]"
          },
          "metadata": {
            "needs_background": "light"
          }
        }
      ]
    },
    {
      "cell_type": "code",
      "source": [
        "b = med_passes['air_yards'].plot.density(xlim=(5,15)).get_lines()[0].get_xydata()"
      ],
      "metadata": {
        "colab": {
          "base_uri": "https://localhost:8080/",
          "height": 265
        },
        "id": "BpXeriK94yDv",
        "outputId": "acdee00b-3875-4d0b-c76d-8ac21ff33481"
      },
      "execution_count": 471,
      "outputs": [
        {
          "output_type": "display_data",
          "data": {
            "text/plain": [
              "<Figure size 432x288 with 1 Axes>"
            ],
            "image/png": "[encoded data removed]"
          },
          "metadata": {
            "needs_background": "light"
          }
        }
      ]
    },
    {
      "cell_type": "code",
      "source": [
        "a = deep_passes['air_yards'].plot.density(xlim=(15,62)).get_lines()[0].get_xydata()"
      ],
      "metadata": {
        "colab": {
          "base_uri": "https://localhost:8080/",
          "height": 269
        },
        "id": "mNyTkqmi4y6s",
        "outputId": "7a13433f-cd03-4eb0-8c5e-934a898ac121"
      },
      "execution_count": 469,
      "outputs": [
        {
          "output_type": "display_data",
          "data": {
            "text/plain": [
              "<Figure size 432x288 with 1 Axes>"
            ],
            "image/png": "[encoded data removed]"
          },
          "metadata": {
            "needs_background": "light"
          }
        }
      ]
    },
    {
      "cell_type": "code",
      "source": [
        "deep_passes['air_yards'].max()"
      ],
      "metadata": {
        "colab": {
          "base_uri": "https://localhost:8080/"
        },
        "id": "oi2AVEHI8LPX",
        "outputId": "f88eccb6-f49e-4667-bab5-21bf9932ec0d"
      },
      "execution_count": 468,
      "outputs": [
        {
          "output_type": "execute_result",
          "data": {
            "text/plain": [
              "60.0"
            ]
          },
          "metadata": {},
          "execution_count": 468
        }
      ]
    },
    {
      "cell_type": "code",
      "source": [
        "catches = rec_plays.loc[(rec_plays['incomplete_pass']==0) & (rec_plays['interception']==0)]\n",
        "catches['yards_after_catch'] = catches['yards_after_catch'].fillna(0)"
      ],
      "metadata": {
        "colab": {
          "base_uri": "https://localhost:8080/"
        },
        "id": "fTWX-HJBdGOR",
        "outputId": "deaa1646-92f8-4a85-98f8-2497eec1e0b0"
      },
      "execution_count": 480,
      "outputs": [
        {
          "output_type": "stream",
          "name": "stderr",
          "text": [
            "/usr/local/lib/python3.7/dist-packages/ipykernel_launcher.py:2: SettingWithCopyWarning: \n",
            "A value is trying to be set on a copy of a slice from a DataFrame.\n",
            "Try using .loc[row_indexer,col_indexer] = value instead\n",
            "\n",
            "See the caveats in the documentation: https://pandas.pydata.org/pandas-docs/stable/user_guide/indexing.html#returning-a-view-versus-a-copy\n",
            "  \n"
          ]
        }
      ]
    },
    {
      "cell_type": "code",
      "source": [
        "catches['pos_team'] = catches['home_team']\n",
        "catches.loc[catches['posteam_type']=='away','pos_team'] = catches['away_team']"
      ],
      "metadata": {
        "colab": {
          "base_uri": "https://localhost:8080/"
        },
        "id": "A5OAobUlLxo0",
        "outputId": "3456cd03-22d8-45b2-9303-3f77e4b5e31a"
      },
      "execution_count": 484,
      "outputs": [
        {
          "output_type": "stream",
          "name": "stderr",
          "text": [
            "/usr/local/lib/python3.7/dist-packages/ipykernel_launcher.py:1: SettingWithCopyWarning: \n",
            "A value is trying to be set on a copy of a slice from a DataFrame.\n",
            "Try using .loc[row_indexer,col_indexer] = value instead\n",
            "\n",
            "See the caveats in the documentation: https://pandas.pydata.org/pandas-docs/stable/user_guide/indexing.html#returning-a-view-versus-a-copy\n",
            "  \"\"\"Entry point for launching an IPython kernel.\n",
            "/usr/local/lib/python3.7/dist-packages/pandas/core/indexing.py:1773: SettingWithCopyWarning: \n",
            "A value is trying to be set on a copy of a slice from a DataFrame.\n",
            "Try using .loc[row_indexer,col_indexer] = value instead\n",
            "\n",
            "See the caveats in the documentation: https://pandas.pydata.org/pandas-docs/stable/user_guide/indexing.html#returning-a-view-versus-a-copy\n",
            "  self._setitem_single_column(ilocs[0], value, pi)\n"
          ]
        }
      ]
    },
    {
      "cell_type": "code",
      "source": [
        "catches"
      ],
      "metadata": {
        "colab": {
          "base_uri": "https://localhost:8080/",
          "height": 423
        },
        "id": "cF3e_U94Mcn2",
        "outputId": "6f0cad17-21d0-4b89-ba08-d8f53c0d7077"
      },
      "execution_count": 485,
      "outputs": [
        {
          "output_type": "execute_result",
          "data": {
            "text/plain": [
              "              game_id home_team away_team season_type  week posteam_type  \\\n",
              "6      2020_01_ARI_SF        SF       ARI         REG     1         home   \n",
              "9      2020_01_ARI_SF        SF       ARI         REG     1         away   \n",
              "10     2020_01_ARI_SF        SF       ARI         REG     1         away   \n",
              "13     2020_01_ARI_SF        SF       ARI         REG     1         away   \n",
              "15     2020_01_ARI_SF        SF       ARI         REG     1         home   \n",
              "...               ...       ...       ...         ...   ...          ...   \n",
              "48501   2020_21_KC_TB        TB        KC        POST    21         away   \n",
              "48503   2020_21_KC_TB        TB        KC        POST    21         away   \n",
              "48505   2020_21_KC_TB        TB        KC        POST    21         away   \n",
              "48506   2020_21_KC_TB        TB        KC        POST    21         away   \n",
              "48508   2020_21_KC_TB        TB        KC        POST    21         away   \n",
              "\n",
              "       yardline_100   game_date  half_seconds_remaining  \\\n",
              "6              45.0  2020-09-13                  1659.0   \n",
              "9              75.0  2020-09-13                  1610.0   \n",
              "10             72.0  2020-09-13                  1584.0   \n",
              "13             75.0  2020-09-13                  1555.0   \n",
              "15             76.0  2020-09-13                  1505.0   \n",
              "...             ...         ...                     ...   \n",
              "48501          50.0  2021-02-07                   185.0   \n",
              "48503          42.0  2021-02-07                   157.0   \n",
              "48505          26.0  2021-02-07                   132.0   \n",
              "48506          25.0  2021-02-07                   127.0   \n",
              "48508          14.0  2021-02-07                   120.0   \n",
              "\n",
              "       game_seconds_remaining  ...  special_teams_play  spread_line  \\\n",
              "6                      3459.0  ...                 0.0          7.0   \n",
              "9                      3410.0  ...                 0.0          7.0   \n",
              "10                     3384.0  ...                 0.0          7.0   \n",
              "13                     3355.0  ...                 0.0          7.0   \n",
              "15                     3305.0  ...                 0.0          7.0   \n",
              "...                       ...  ...                 ...          ...   \n",
              "48501                   185.0  ...                 0.0         -3.0   \n",
              "48503                   157.0  ...                 0.0         -3.0   \n",
              "48505                   132.0  ...                 0.0         -3.0   \n",
              "48506                   127.0  ...                 0.0         -3.0   \n",
              "48508                   120.0  ...                 0.0         -3.0   \n",
              "\n",
              "       total_line div_game     home_coach       away_coach  \\\n",
              "6            48.5        1  Kyle Shanahan  Kliff Kingsbury   \n",
              "9            48.5        1  Kyle Shanahan  Kliff Kingsbury   \n",
              "10           48.5        1  Kyle Shanahan  Kliff Kingsbury   \n",
              "13           48.5        1  Kyle Shanahan  Kliff Kingsbury   \n",
              "15           48.5        1  Kyle Shanahan  Kliff Kingsbury   \n",
              "...           ...      ...            ...              ...   \n",
              "48501        55.0        0   Bruce Arians        Andy Reid   \n",
              "48503        55.0        0   Bruce Arians        Andy Reid   \n",
              "48505        55.0        0   Bruce Arians        Andy Reid   \n",
              "48506        55.0        0   Bruce Arians        Andy Reid   \n",
              "48508        55.0        0   Bruce Arians        Andy Reid   \n",
              "\n",
              "       score_differential  out_of_bounds  pass_length_rec  pos_team  \n",
              "6                     0.0            0.0       rec_medium        SF  \n",
              "9                    -3.0            0.0        rec_short       ARI  \n",
              "10                   -3.0            0.0       rec_medium       ARI  \n",
              "13                   -3.0            0.0        rec_short       ARI  \n",
              "15                    3.0            0.0        rec_short        SF  \n",
              "...                   ...            ...              ...       ...  \n",
              "48501               -22.0            0.0        rec_short        KC  \n",
              "48503               -22.0            0.0         rec_deep        KC  \n",
              "48505               -22.0            1.0        rec_short        KC  \n",
              "48506               -22.0            0.0       rec_medium        KC  \n",
              "48508               -22.0            0.0     rec_rz_short        KC  \n",
              "\n",
              "[12169 rows x 89 columns]"
            ],
            "text/html": [
              "\n",
              "  <div id=\"df-91367090-3e2b-4b4b-88d3-f24f5ec4d4a8\">\n",
              "    <div class=\"colab-df-container\">\n",
              "      <div>\n",
              "<style scoped>\n",
              "    .dataframe tbody tr th:only-of-type {\n",
              "        vertical-align: middle;\n",
              "    }\n",
              "\n",
              "    .dataframe tbody tr th {\n",
              "        vertical-align: top;\n",
              "    }\n",
              "\n",
              "    .dataframe thead th {\n",
              "        text-align: right;\n",
              "    }\n",
              "</style>\n",
              "<table border=\"1\" class=\"dataframe\">\n",
              "  <thead>\n",
              "    <tr style=\"text-align: right;\">\n",
              "      <th></th>\n",
              "      <th>game_id</th>\n",
              "      <th>home_team</th>\n",
              "      <th>away_team</th>\n",
              "      <th>season_type</th>\n",
              "      <th>week</th>\n",
              "      <th>posteam_type</th>\n",
              "      <th>yardline_100</th>\n",
              "      <th>game_date</th>\n",
              "      <th>half_seconds_remaining</th>\n",
              "      <th>game_seconds_remaining</th>\n",
              "      <th>...</th>\n",
              "      <th>special_teams_play</th>\n",
              "      <th>spread_line</th>\n",
              "      <th>total_line</th>\n",
              "      <th>div_game</th>\n",
              "      <th>home_coach</th>\n",
              "      <th>away_coach</th>\n",
              "      <th>score_differential</th>\n",
              "      <th>out_of_bounds</th>\n",
              "      <th>pass_length_rec</th>\n",
              "      <th>pos_team</th>\n",
              "    </tr>\n",
              "  </thead>\n",
              "  <tbody>\n",
              "    <tr>\n",
              "      <th>6</th>\n",
              "      <td>2020_01_ARI_SF</td>\n",
              "      <td>SF</td>\n",
              "      <td>ARI</td>\n",
              "      <td>REG</td>\n",
              "      <td>1</td>\n",
              "      <td>home</td>\n",
              "      <td>45.0</td>\n",
              "      <td>2020-09-13</td>\n",
              "      <td>1659.0</td>\n",
              "      <td>3459.0</td>\n",
              "      <td>...</td>\n",
              "      <td>0.0</td>\n",
              "      <td>7.0</td>\n",
              "      <td>48.5</td>\n",
              "      <td>1</td>\n",
              "      <td>Kyle Shanahan</td>\n",
              "      <td>Kliff Kingsbury</td>\n",
              "      <td>0.0</td>\n",
              "      <td>0.0</td>\n",
              "      <td>rec_medium</td>\n",
              "      <td>SF</td>\n",
              "    </tr>\n",
              "    <tr>\n",
              "      <th>9</th>\n",
              "      <td>2020_01_ARI_SF</td>\n",
              "      <td>SF</td>\n",
              "      <td>ARI</td>\n",
              "      <td>REG</td>\n",
              "      <td>1</td>\n",
              "      <td>away</td>\n",
              "      <td>75.0</td>\n",
              "      <td>2020-09-13</td>\n",
              "      <td>1610.0</td>\n",
              "      <td>3410.0</td>\n",
              "      <td>...</td>\n",
              "      <td>0.0</td>\n",
              "      <td>7.0</td>\n",
              "      <td>48.5</td>\n",
              "      <td>1</td>\n",
              "      <td>Kyle Shanahan</td>\n",
              "      <td>Kliff Kingsbury</td>\n",
              "      <td>-3.0</td>\n",
              "      <td>0.0</td>\n",
              "      <td>rec_short</td>\n",
              "      <td>ARI</td>\n",
              "    </tr>\n",
              "    <tr>\n",
              "      <th>10</th>\n",
              "      <td>2020_01_ARI_SF</td>\n",
              "      <td>SF</td>\n",
              "      <td>ARI</td>\n",
              "      <td>REG</td>\n",
              "      <td>1</td>\n",
              "      <td>away</td>\n",
              "      <td>72.0</td>\n",
              "      <td>2020-09-13</td>\n",
              "      <td>1584.0</td>\n",
              "      <td>3384.0</td>\n",
              "      <td>...</td>\n",
              "      <td>0.0</td>\n",
              "      <td>7.0</td>\n",
              "      <td>48.5</td>\n",
              "      <td>1</td>\n",
              "      <td>Kyle Shanahan</td>\n",
              "      <td>Kliff Kingsbury</td>\n",
              "      <td>-3.0</td>\n",
              "      <td>0.0</td>\n",
              "      <td>rec_medium</td>\n",
              "      <td>ARI</td>\n",
              "    </tr>\n",
              "    <tr>\n",
              "      <th>13</th>\n",
              "      <td>2020_01_ARI_SF</td>\n",
              "      <td>SF</td>\n",
              "      <td>ARI</td>\n",
              "      <td>REG</td>\n",
              "      <td>1</td>\n",
              "      <td>away</td>\n",
              "      <td>75.0</td>\n",
              "      <td>2020-09-13</td>\n",
              "      <td>1555.0</td>\n",
              "      <td>3355.0</td>\n",
              "      <td>...</td>\n",
              "      <td>0.0</td>\n",
              "      <td>7.0</td>\n",
              "      <td>48.5</td>\n",
              "      <td>1</td>\n",
              "      <td>Kyle Shanahan</td>\n",
              "      <td>Kliff Kingsbury</td>\n",
              "      <td>-3.0</td>\n",
              "      <td>0.0</td>\n",
              "      <td>rec_short</td>\n",
              "      <td>ARI</td>\n",
              "    </tr>\n",
              "    <tr>\n",
              "      <th>15</th>\n",
              "      <td>2020_01_ARI_SF</td>\n",
              "      <td>SF</td>\n",
              "      <td>ARI</td>\n",
              "      <td>REG</td>\n",
              "      <td>1</td>\n",
              "      <td>home</td>\n",
              "      <td>76.0</td>\n",
              "      <td>2020-09-13</td>\n",
              "      <td>1505.0</td>\n",
              "      <td>3305.0</td>\n",
              "      <td>...</td>\n",
              "      <td>0.0</td>\n",
              "      <td>7.0</td>\n",
              "      <td>48.5</td>\n",
              "      <td>1</td>\n",
              "      <td>Kyle Shanahan</td>\n",
              "      <td>Kliff Kingsbury</td>\n",
              "      <td>3.0</td>\n",
              "      <td>0.0</td>\n",
              "      <td>rec_short</td>\n",
              "      <td>SF</td>\n",
              "    </tr>\n",
              "    <tr>\n",
              "      <th>...</th>\n",
              "      <td>...</td>\n",
              "      <td>...</td>\n",
              "      <td>...</td>\n",
              "      <td>...</td>\n",
              "      <td>...</td>\n",
              "      <td>...</td>\n",
              "      <td>...</td>\n",
              "      <td>...</td>\n",
              "      <td>...</td>\n",
              "      <td>...</td>\n",
              "      <td>...</td>\n",
              "      <td>...</td>\n",
              "      <td>...</td>\n",
              "      <td>...</td>\n",
              "      <td>...</td>\n",
              "      <td>...</td>\n",
              "      <td>...</td>\n",
              "      <td>...</td>\n",
              "      <td>...</td>\n",
              "      <td>...</td>\n",
              "      <td>...</td>\n",
              "    </tr>\n",
              "    <tr>\n",
              "      <th>48501</th>\n",
              "      <td>2020_21_KC_TB</td>\n",
              "      <td>TB</td>\n",
              "      <td>KC</td>\n",
              "      <td>POST</td>\n",
              "      <td>21</td>\n",
              "      <td>away</td>\n",
              "      <td>50.0</td>\n",
              "      <td>2021-02-07</td>\n",
              "      <td>185.0</td>\n",
              "      <td>185.0</td>\n",
              "      <td>...</td>\n",
              "      <td>0.0</td>\n",
              "      <td>-3.0</td>\n",
              "      <td>55.0</td>\n",
              "      <td>0</td>\n",
              "      <td>Bruce Arians</td>\n",
              "      <td>Andy Reid</td>\n",
              "      <td>-22.0</td>\n",
              "      <td>0.0</td>\n",
              "      <td>rec_short</td>\n",
              "      <td>KC</td>\n",
              "    </tr>\n",
              "    <tr>\n",
              "      <th>48503</th>\n",
              "      <td>2020_21_KC_TB</td>\n",
              "      <td>TB</td>\n",
              "      <td>KC</td>\n",
              "      <td>POST</td>\n",
              "      <td>21</td>\n",
              "      <td>away</td>\n",
              "      <td>42.0</td>\n",
              "      <td>2021-02-07</td>\n",
              "      <td>157.0</td>\n",
              "      <td>157.0</td>\n",
              "      <td>...</td>\n",
              "      <td>0.0</td>\n",
              "      <td>-3.0</td>\n",
              "      <td>55.0</td>\n",
              "      <td>0</td>\n",
              "      <td>Bruce Arians</td>\n",
              "      <td>Andy Reid</td>\n",
              "      <td>-22.0</td>\n",
              "      <td>0.0</td>\n",
              "      <td>rec_deep</td>\n",
              "      <td>KC</td>\n",
              "    </tr>\n",
              "    <tr>\n",
              "      <th>48505</th>\n",
              "      <td>2020_21_KC_TB</td>\n",
              "      <td>TB</td>\n",
              "      <td>KC</td>\n",
              "      <td>POST</td>\n",
              "      <td>21</td>\n",
              "      <td>away</td>\n",
              "      <td>26.0</td>\n",
              "      <td>2021-02-07</td>\n",
              "      <td>132.0</td>\n",
              "      <td>132.0</td>\n",
              "      <td>...</td>\n",
              "      <td>0.0</td>\n",
              "      <td>-3.0</td>\n",
              "      <td>55.0</td>\n",
              "      <td>0</td>\n",
              "      <td>Bruce Arians</td>\n",
              "      <td>Andy Reid</td>\n",
              "      <td>-22.0</td>\n",
              "      <td>1.0</td>\n",
              "      <td>rec_short</td>\n",
              "      <td>KC</td>\n",
              "    </tr>\n",
              "    <tr>\n",
              "      <th>48506</th>\n",
              "      <td>2020_21_KC_TB</td>\n",
              "      <td>TB</td>\n",
              "      <td>KC</td>\n",
              "      <td>POST</td>\n",
              "      <td>21</td>\n",
              "      <td>away</td>\n",
              "      <td>25.0</td>\n",
              "      <td>2021-02-07</td>\n",
              "      <td>127.0</td>\n",
              "      <td>127.0</td>\n",
              "      <td>...</td>\n",
              "      <td>0.0</td>\n",
              "      <td>-3.0</td>\n",
              "      <td>55.0</td>\n",
              "      <td>0</td>\n",
              "      <td>Bruce Arians</td>\n",
              "      <td>Andy Reid</td>\n",
              "      <td>-22.0</td>\n",
              "      <td>0.0</td>\n",
              "      <td>rec_medium</td>\n",
              "      <td>KC</td>\n",
              "    </tr>\n",
              "    <tr>\n",
              "      <th>48508</th>\n",
              "      <td>2020_21_KC_TB</td>\n",
              "      <td>TB</td>\n",
              "      <td>KC</td>\n",
              "      <td>POST</td>\n",
              "      <td>21</td>\n",
              "      <td>away</td>\n",
              "      <td>14.0</td>\n",
              "      <td>2021-02-07</td>\n",
              "      <td>120.0</td>\n",
              "      <td>120.0</td>\n",
              "      <td>...</td>\n",
              "      <td>0.0</td>\n",
              "      <td>-3.0</td>\n",
              "      <td>55.0</td>\n",
              "      <td>0</td>\n",
              "      <td>Bruce Arians</td>\n",
              "      <td>Andy Reid</td>\n",
              "      <td>-22.0</td>\n",
              "      <td>0.0</td>\n",
              "      <td>rec_rz_short</td>\n",
              "      <td>KC</td>\n",
              "    </tr>\n",
              "  </tbody>\n",
              "</table>\n",
              "<p>12169 rows × 89 columns</p>\n",
              "</div>\n",
              "      <button class=\"colab-df-convert\" onclick=\"convertToInteractive('df-91367090-3e2b-4b4b-88d3-f24f5ec4d4a8')\"\n",
              "              title=\"Convert this dataframe to an interactive table.\"\n",
              "              style=\"display:none;\">\n",
              "        \n",
              "  <svg xmlns=\"http://www.w3.org/2000/svg\" height=\"24px\"viewBox=\"0 0 24 24\"\n",
              "       width=\"24px\">\n",
              "    <path d=\"M0 0h24v24H0V0z\" fill=\"none\"/>\n",
              "    <path d=\"M18.56 5.44l.94 2.06.94-2.06 2.06-.94-2.06-.94-.94-2.06-.94 2.06-2.06.94zm-11 1L8.5 8.5l.94-2.06 2.06-.94-2.06-.94L8.5 2.5l-.94 2.06-2.06.94zm10 10l.94 2.06.94-2.06 2.06-.94-2.06-.94-.94-2.06-.94 2.06-2.06.94z\"/><path d=\"M17.41 7.96l-1.37-1.37c-.4-.4-.92-.59-1.43-.59-.52 0-1.04.2-1.43.59L10.3 9.45l-7.72 7.72c-.78.78-.78 2.05 0 2.83L4 21.41c.39.39.9.59 1.41.59.51 0 1.02-.2 1.41-.59l7.78-7.78 2.81-2.81c.8-.78.8-2.07 0-2.86zM5.41 20L4 18.59l7.72-7.72 1.47 1.35L5.41 20z\"/>\n",
              "  </svg>\n",
              "      </button>\n",
              "      \n",
              "  <style>\n",
              "    .colab-df-container {\n",
              "      display:flex;\n",
              "      flex-wrap:wrap;\n",
              "      gap: 12px;\n",
              "    }\n",
              "\n",
              "    .colab-df-convert {\n",
              "      background-color: #E8F0FE;\n",
              "      border: none;\n",
              "      border-radius: 50%;\n",
              "      cursor: pointer;\n",
              "      display: none;\n",
              "      fill: #1967D2;\n",
              "      height: 32px;\n",
              "      padding: 0 0 0 0;\n",
              "      width: 32px;\n",
              "    }\n",
              "\n",
              "    .colab-df-convert:hover {\n",
              "      background-color: #E2EBFA;\n",
              "      box-shadow: 0px 1px 2px rgba(60, 64, 67, 0.3), 0px 1px 3px 1px rgba(60, 64, 67, 0.15);\n",
              "      fill: #174EA6;\n",
              "    }\n",
              "\n",
              "    [theme=dark] .colab-df-convert {\n",
              "      background-color: #3B4455;\n",
              "      fill: #D2E3FC;\n",
              "    }\n",
              "\n",
              "    [theme=dark] .colab-df-convert:hover {\n",
              "      background-color: #434B5C;\n",
              "      box-shadow: 0px 1px 3px 1px rgba(0, 0, 0, 0.15);\n",
              "      filter: drop-shadow(0px 1px 2px rgba(0, 0, 0, 0.3));\n",
              "      fill: #FFFFFF;\n",
              "    }\n",
              "  </style>\n",
              "\n",
              "      <script>\n",
              "        const buttonEl =\n",
              "          document.querySelector('#df-91367090-3e2b-4b4b-88d3-f24f5ec4d4a8 button.colab-df-convert');\n",
              "        buttonEl.style.display =\n",
              "          google.colab.kernel.accessAllowed ? 'block' : 'none';\n",
              "\n",
              "        async function convertToInteractive(key) {\n",
              "          const element = document.querySelector('#df-91367090-3e2b-4b4b-88d3-f24f5ec4d4a8');\n",
              "          const dataTable =\n",
              "            await google.colab.kernel.invokeFunction('convertToInteractive',\n",
              "                                                     [key], {});\n",
              "          if (!dataTable) return;\n",
              "\n",
              "          const docLinkHtml = 'Like what you see? Visit the ' +\n",
              "            '<a target=\"_blank\" href=https://colab.research.google.com/notebooks/data_table.ipynb>data table notebook</a>'\n",
              "            + ' to learn more about interactive tables.';\n",
              "          element.innerHTML = '';\n",
              "          dataTable['output_type'] = 'display_data';\n",
              "          await google.colab.output.renderOutput(dataTable, element);\n",
              "          const docLink = document.createElement('div');\n",
              "          docLink.innerHTML = docLinkHtml;\n",
              "          element.appendChild(docLink);\n",
              "        }\n",
              "      </script>\n",
              "    </div>\n",
              "  </div>\n",
              "  "
            ]
          },
          "metadata": {},
          "execution_count": 485
        }
      ]
    },
    {
      "cell_type": "markdown",
      "source": [
        "#Complete Model"
      ],
      "metadata": {
        "id": "hcFCKB_0KFMu"
      }
    }
  ]
}